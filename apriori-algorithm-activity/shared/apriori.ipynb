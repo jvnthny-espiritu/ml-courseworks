{
  "nbformat": 4,
  "nbformat_minor": 0,
  "metadata": {
    "colab": {
      "provenance": []
    },
    "kernelspec": {
      "name": "python3",
      "display_name": "Python 3"
    },
    "language_info": {
      "name": "python"
    }
  },
  "cells": [
    {
      "cell_type": "code",
      "execution_count": null,
      "metadata": {
        "id": "oxnJixvbfszK"
      },
      "outputs": [],
      "source": [
        "import pandas as pd\n",
        "import numpy as np\n",
        "from itertools import combinations"
      ]
    },
    {
      "cell_type": "code",
      "source": [
        "from google.colab import files\n",
        "uploaded = files.upload()"
      ],
      "metadata": {
        "colab": {
          "base_uri": "https://localhost:8080/",
          "height": 73
        },
        "id": "X5x2vl0tgv4i",
        "outputId": "bbb273e6-6282-44fd-8944-9082763b065b"
      },
      "execution_count": null,
      "outputs": [
        {
          "output_type": "display_data",
          "data": {
            "text/plain": [
              "<IPython.core.display.HTML object>"
            ],
            "text/html": [
              "\n",
              "     <input type=\"file\" id=\"files-2bf1fb23-67e6-4f93-ab55-7dd624a08953\" name=\"files[]\" multiple disabled\n",
              "        style=\"border:none\" />\n",
              "     <output id=\"result-2bf1fb23-67e6-4f93-ab55-7dd624a08953\">\n",
              "      Upload widget is only available when the cell has been executed in the\n",
              "      current browser session. Please rerun this cell to enable.\n",
              "      </output>\n",
              "      <script>// Copyright 2017 Google LLC\n",
              "//\n",
              "// Licensed under the Apache License, Version 2.0 (the \"License\");\n",
              "// you may not use this file except in compliance with the License.\n",
              "// You may obtain a copy of the License at\n",
              "//\n",
              "//      http://www.apache.org/licenses/LICENSE-2.0\n",
              "//\n",
              "// Unless required by applicable law or agreed to in writing, software\n",
              "// distributed under the License is distributed on an \"AS IS\" BASIS,\n",
              "// WITHOUT WARRANTIES OR CONDITIONS OF ANY KIND, either express or implied.\n",
              "// See the License for the specific language governing permissions and\n",
              "// limitations under the License.\n",
              "\n",
              "/**\n",
              " * @fileoverview Helpers for google.colab Python module.\n",
              " */\n",
              "(function(scope) {\n",
              "function span(text, styleAttributes = {}) {\n",
              "  const element = document.createElement('span');\n",
              "  element.textContent = text;\n",
              "  for (const key of Object.keys(styleAttributes)) {\n",
              "    element.style[key] = styleAttributes[key];\n",
              "  }\n",
              "  return element;\n",
              "}\n",
              "\n",
              "// Max number of bytes which will be uploaded at a time.\n",
              "const MAX_PAYLOAD_SIZE = 100 * 1024;\n",
              "\n",
              "function _uploadFiles(inputId, outputId) {\n",
              "  const steps = uploadFilesStep(inputId, outputId);\n",
              "  const outputElement = document.getElementById(outputId);\n",
              "  // Cache steps on the outputElement to make it available for the next call\n",
              "  // to uploadFilesContinue from Python.\n",
              "  outputElement.steps = steps;\n",
              "\n",
              "  return _uploadFilesContinue(outputId);\n",
              "}\n",
              "\n",
              "// This is roughly an async generator (not supported in the browser yet),\n",
              "// where there are multiple asynchronous steps and the Python side is going\n",
              "// to poll for completion of each step.\n",
              "// This uses a Promise to block the python side on completion of each step,\n",
              "// then passes the result of the previous step as the input to the next step.\n",
              "function _uploadFilesContinue(outputId) {\n",
              "  const outputElement = document.getElementById(outputId);\n",
              "  const steps = outputElement.steps;\n",
              "\n",
              "  const next = steps.next(outputElement.lastPromiseValue);\n",
              "  return Promise.resolve(next.value.promise).then((value) => {\n",
              "    // Cache the last promise value to make it available to the next\n",
              "    // step of the generator.\n",
              "    outputElement.lastPromiseValue = value;\n",
              "    return next.value.response;\n",
              "  });\n",
              "}\n",
              "\n",
              "/**\n",
              " * Generator function which is called between each async step of the upload\n",
              " * process.\n",
              " * @param {string} inputId Element ID of the input file picker element.\n",
              " * @param {string} outputId Element ID of the output display.\n",
              " * @return {!Iterable<!Object>} Iterable of next steps.\n",
              " */\n",
              "function* uploadFilesStep(inputId, outputId) {\n",
              "  const inputElement = document.getElementById(inputId);\n",
              "  inputElement.disabled = false;\n",
              "\n",
              "  const outputElement = document.getElementById(outputId);\n",
              "  outputElement.innerHTML = '';\n",
              "\n",
              "  const pickedPromise = new Promise((resolve) => {\n",
              "    inputElement.addEventListener('change', (e) => {\n",
              "      resolve(e.target.files);\n",
              "    });\n",
              "  });\n",
              "\n",
              "  const cancel = document.createElement('button');\n",
              "  inputElement.parentElement.appendChild(cancel);\n",
              "  cancel.textContent = 'Cancel upload';\n",
              "  const cancelPromise = new Promise((resolve) => {\n",
              "    cancel.onclick = () => {\n",
              "      resolve(null);\n",
              "    };\n",
              "  });\n",
              "\n",
              "  // Wait for the user to pick the files.\n",
              "  const files = yield {\n",
              "    promise: Promise.race([pickedPromise, cancelPromise]),\n",
              "    response: {\n",
              "      action: 'starting',\n",
              "    }\n",
              "  };\n",
              "\n",
              "  cancel.remove();\n",
              "\n",
              "  // Disable the input element since further picks are not allowed.\n",
              "  inputElement.disabled = true;\n",
              "\n",
              "  if (!files) {\n",
              "    return {\n",
              "      response: {\n",
              "        action: 'complete',\n",
              "      }\n",
              "    };\n",
              "  }\n",
              "\n",
              "  for (const file of files) {\n",
              "    const li = document.createElement('li');\n",
              "    li.append(span(file.name, {fontWeight: 'bold'}));\n",
              "    li.append(span(\n",
              "        `(${file.type || 'n/a'}) - ${file.size} bytes, ` +\n",
              "        `last modified: ${\n",
              "            file.lastModifiedDate ? file.lastModifiedDate.toLocaleDateString() :\n",
              "                                    'n/a'} - `));\n",
              "    const percent = span('0% done');\n",
              "    li.appendChild(percent);\n",
              "\n",
              "    outputElement.appendChild(li);\n",
              "\n",
              "    const fileDataPromise = new Promise((resolve) => {\n",
              "      const reader = new FileReader();\n",
              "      reader.onload = (e) => {\n",
              "        resolve(e.target.result);\n",
              "      };\n",
              "      reader.readAsArrayBuffer(file);\n",
              "    });\n",
              "    // Wait for the data to be ready.\n",
              "    let fileData = yield {\n",
              "      promise: fileDataPromise,\n",
              "      response: {\n",
              "        action: 'continue',\n",
              "      }\n",
              "    };\n",
              "\n",
              "    // Use a chunked sending to avoid message size limits. See b/62115660.\n",
              "    let position = 0;\n",
              "    do {\n",
              "      const length = Math.min(fileData.byteLength - position, MAX_PAYLOAD_SIZE);\n",
              "      const chunk = new Uint8Array(fileData, position, length);\n",
              "      position += length;\n",
              "\n",
              "      const base64 = btoa(String.fromCharCode.apply(null, chunk));\n",
              "      yield {\n",
              "        response: {\n",
              "          action: 'append',\n",
              "          file: file.name,\n",
              "          data: base64,\n",
              "        },\n",
              "      };\n",
              "\n",
              "      let percentDone = fileData.byteLength === 0 ?\n",
              "          100 :\n",
              "          Math.round((position / fileData.byteLength) * 100);\n",
              "      percent.textContent = `${percentDone}% done`;\n",
              "\n",
              "    } while (position < fileData.byteLength);\n",
              "  }\n",
              "\n",
              "  // All done.\n",
              "  yield {\n",
              "    response: {\n",
              "      action: 'complete',\n",
              "    }\n",
              "  };\n",
              "}\n",
              "\n",
              "scope.google = scope.google || {};\n",
              "scope.google.colab = scope.google.colab || {};\n",
              "scope.google.colab._files = {\n",
              "  _uploadFiles,\n",
              "  _uploadFilesContinue,\n",
              "};\n",
              "})(self);\n",
              "</script> "
            ]
          },
          "metadata": {}
        },
        {
          "output_type": "stream",
          "name": "stdout",
          "text": [
            "Saving groceries_2.csv to groceries_2.csv\n"
          ]
        }
      ]
    },
    {
      "cell_type": "code",
      "source": [
        "df = pd.read_csv(\"groceries_2.csv\", low_memory=False)"
      ],
      "metadata": {
        "id": "9BAue5aUf1__"
      },
      "execution_count": null,
      "outputs": []
    },
    {
      "cell_type": "code",
      "source": [
        "df.head()"
      ],
      "metadata": {
        "colab": {
          "base_uri": "https://localhost:8080/",
          "height": 244
        },
        "id": "-qE0aUGYgJYo",
        "outputId": "4dfef01a-1f47-49ac-899b-7179a2f1bb1c"
      },
      "execution_count": null,
      "outputs": [
        {
          "output_type": "execute_result",
          "data": {
            "text/plain": [
              "  milk bread biscuit oats pancit canton peanut butter cheese green tea coffee  \\\n",
              "0    t     t       t  NaN           NaN           NaN    NaN       NaN    NaN   \n",
              "1    t     t       t    t           NaN           NaN    NaN       NaN    NaN   \n",
              "2  NaN     t     NaN  NaN             t           NaN    NaN         t    NaN   \n",
              "3    t     t     NaN  NaN           NaN             t      t       NaN    NaN   \n",
              "4  NaN   NaN       t  NaN           NaN           NaN      t         t    NaN   \n",
              "\n",
              "  cinammon sugar  \n",
              "0      NaN   NaN  \n",
              "1      NaN   NaN  \n",
              "2      NaN   NaN  \n",
              "3      NaN   NaN  \n",
              "4      NaN   NaN  "
            ],
            "text/html": [
              "\n",
              "  <div id=\"df-a141fada-5347-44cb-a21d-8e17b851c800\" class=\"colab-df-container\">\n",
              "    <div>\n",
              "<style scoped>\n",
              "    .dataframe tbody tr th:only-of-type {\n",
              "        vertical-align: middle;\n",
              "    }\n",
              "\n",
              "    .dataframe tbody tr th {\n",
              "        vertical-align: top;\n",
              "    }\n",
              "\n",
              "    .dataframe thead th {\n",
              "        text-align: right;\n",
              "    }\n",
              "</style>\n",
              "<table border=\"1\" class=\"dataframe\">\n",
              "  <thead>\n",
              "    <tr style=\"text-align: right;\">\n",
              "      <th></th>\n",
              "      <th>milk</th>\n",
              "      <th>bread</th>\n",
              "      <th>biscuit</th>\n",
              "      <th>oats</th>\n",
              "      <th>pancit canton</th>\n",
              "      <th>peanut butter</th>\n",
              "      <th>cheese</th>\n",
              "      <th>green tea</th>\n",
              "      <th>coffee</th>\n",
              "      <th>cinammon</th>\n",
              "      <th>sugar</th>\n",
              "    </tr>\n",
              "  </thead>\n",
              "  <tbody>\n",
              "    <tr>\n",
              "      <th>0</th>\n",
              "      <td>t</td>\n",
              "      <td>t</td>\n",
              "      <td>t</td>\n",
              "      <td>NaN</td>\n",
              "      <td>NaN</td>\n",
              "      <td>NaN</td>\n",
              "      <td>NaN</td>\n",
              "      <td>NaN</td>\n",
              "      <td>NaN</td>\n",
              "      <td>NaN</td>\n",
              "      <td>NaN</td>\n",
              "    </tr>\n",
              "    <tr>\n",
              "      <th>1</th>\n",
              "      <td>t</td>\n",
              "      <td>t</td>\n",
              "      <td>t</td>\n",
              "      <td>t</td>\n",
              "      <td>NaN</td>\n",
              "      <td>NaN</td>\n",
              "      <td>NaN</td>\n",
              "      <td>NaN</td>\n",
              "      <td>NaN</td>\n",
              "      <td>NaN</td>\n",
              "      <td>NaN</td>\n",
              "    </tr>\n",
              "    <tr>\n",
              "      <th>2</th>\n",
              "      <td>NaN</td>\n",
              "      <td>t</td>\n",
              "      <td>NaN</td>\n",
              "      <td>NaN</td>\n",
              "      <td>t</td>\n",
              "      <td>NaN</td>\n",
              "      <td>NaN</td>\n",
              "      <td>t</td>\n",
              "      <td>NaN</td>\n",
              "      <td>NaN</td>\n",
              "      <td>NaN</td>\n",
              "    </tr>\n",
              "    <tr>\n",
              "      <th>3</th>\n",
              "      <td>t</td>\n",
              "      <td>t</td>\n",
              "      <td>NaN</td>\n",
              "      <td>NaN</td>\n",
              "      <td>NaN</td>\n",
              "      <td>t</td>\n",
              "      <td>t</td>\n",
              "      <td>NaN</td>\n",
              "      <td>NaN</td>\n",
              "      <td>NaN</td>\n",
              "      <td>NaN</td>\n",
              "    </tr>\n",
              "    <tr>\n",
              "      <th>4</th>\n",
              "      <td>NaN</td>\n",
              "      <td>NaN</td>\n",
              "      <td>t</td>\n",
              "      <td>NaN</td>\n",
              "      <td>NaN</td>\n",
              "      <td>NaN</td>\n",
              "      <td>t</td>\n",
              "      <td>t</td>\n",
              "      <td>NaN</td>\n",
              "      <td>NaN</td>\n",
              "      <td>NaN</td>\n",
              "    </tr>\n",
              "  </tbody>\n",
              "</table>\n",
              "</div>\n",
              "    <div class=\"colab-df-buttons\">\n",
              "\n",
              "  <div class=\"colab-df-container\">\n",
              "    <button class=\"colab-df-convert\" onclick=\"convertToInteractive('df-a141fada-5347-44cb-a21d-8e17b851c800')\"\n",
              "            title=\"Convert this dataframe to an interactive table.\"\n",
              "            style=\"display:none;\">\n",
              "\n",
              "  <svg xmlns=\"http://www.w3.org/2000/svg\" height=\"24px\" viewBox=\"0 -960 960 960\">\n",
              "    <path d=\"M120-120v-720h720v720H120Zm60-500h600v-160H180v160Zm220 220h160v-160H400v160Zm0 220h160v-160H400v160ZM180-400h160v-160H180v160Zm440 0h160v-160H620v160ZM180-180h160v-160H180v160Zm440 0h160v-160H620v160Z\"/>\n",
              "  </svg>\n",
              "    </button>\n",
              "\n",
              "  <style>\n",
              "    .colab-df-container {\n",
              "      display:flex;\n",
              "      gap: 12px;\n",
              "    }\n",
              "\n",
              "    .colab-df-convert {\n",
              "      background-color: #E8F0FE;\n",
              "      border: none;\n",
              "      border-radius: 50%;\n",
              "      cursor: pointer;\n",
              "      display: none;\n",
              "      fill: #1967D2;\n",
              "      height: 32px;\n",
              "      padding: 0 0 0 0;\n",
              "      width: 32px;\n",
              "    }\n",
              "\n",
              "    .colab-df-convert:hover {\n",
              "      background-color: #E2EBFA;\n",
              "      box-shadow: 0px 1px 2px rgba(60, 64, 67, 0.3), 0px 1px 3px 1px rgba(60, 64, 67, 0.15);\n",
              "      fill: #174EA6;\n",
              "    }\n",
              "\n",
              "    .colab-df-buttons div {\n",
              "      margin-bottom: 4px;\n",
              "    }\n",
              "\n",
              "    [theme=dark] .colab-df-convert {\n",
              "      background-color: #3B4455;\n",
              "      fill: #D2E3FC;\n",
              "    }\n",
              "\n",
              "    [theme=dark] .colab-df-convert:hover {\n",
              "      background-color: #434B5C;\n",
              "      box-shadow: 0px 1px 3px 1px rgba(0, 0, 0, 0.15);\n",
              "      filter: drop-shadow(0px 1px 2px rgba(0, 0, 0, 0.3));\n",
              "      fill: #FFFFFF;\n",
              "    }\n",
              "  </style>\n",
              "\n",
              "    <script>\n",
              "      const buttonEl =\n",
              "        document.querySelector('#df-a141fada-5347-44cb-a21d-8e17b851c800 button.colab-df-convert');\n",
              "      buttonEl.style.display =\n",
              "        google.colab.kernel.accessAllowed ? 'block' : 'none';\n",
              "\n",
              "      async function convertToInteractive(key) {\n",
              "        const element = document.querySelector('#df-a141fada-5347-44cb-a21d-8e17b851c800');\n",
              "        const dataTable =\n",
              "          await google.colab.kernel.invokeFunction('convertToInteractive',\n",
              "                                                    [key], {});\n",
              "        if (!dataTable) return;\n",
              "\n",
              "        const docLinkHtml = 'Like what you see? Visit the ' +\n",
              "          '<a target=\"_blank\" href=https://colab.research.google.com/notebooks/data_table.ipynb>data table notebook</a>'\n",
              "          + ' to learn more about interactive tables.';\n",
              "        element.innerHTML = '';\n",
              "        dataTable['output_type'] = 'display_data';\n",
              "        await google.colab.output.renderOutput(dataTable, element);\n",
              "        const docLink = document.createElement('div');\n",
              "        docLink.innerHTML = docLinkHtml;\n",
              "        element.appendChild(docLink);\n",
              "      }\n",
              "    </script>\n",
              "  </div>\n",
              "\n",
              "\n",
              "    <div id=\"df-b24d2710-1d79-4b13-bc58-3771b6fe854e\">\n",
              "      <button class=\"colab-df-quickchart\" onclick=\"quickchart('df-b24d2710-1d79-4b13-bc58-3771b6fe854e')\"\n",
              "                title=\"Suggest charts\"\n",
              "                style=\"display:none;\">\n",
              "\n",
              "<svg xmlns=\"http://www.w3.org/2000/svg\" height=\"24px\"viewBox=\"0 0 24 24\"\n",
              "     width=\"24px\">\n",
              "    <g>\n",
              "        <path d=\"M19 3H5c-1.1 0-2 .9-2 2v14c0 1.1.9 2 2 2h14c1.1 0 2-.9 2-2V5c0-1.1-.9-2-2-2zM9 17H7v-7h2v7zm4 0h-2V7h2v10zm4 0h-2v-4h2v4z\"/>\n",
              "    </g>\n",
              "</svg>\n",
              "      </button>\n",
              "\n",
              "<style>\n",
              "  .colab-df-quickchart {\n",
              "      --bg-color: #E8F0FE;\n",
              "      --fill-color: #1967D2;\n",
              "      --hover-bg-color: #E2EBFA;\n",
              "      --hover-fill-color: #174EA6;\n",
              "      --disabled-fill-color: #AAA;\n",
              "      --disabled-bg-color: #DDD;\n",
              "  }\n",
              "\n",
              "  [theme=dark] .colab-df-quickchart {\n",
              "      --bg-color: #3B4455;\n",
              "      --fill-color: #D2E3FC;\n",
              "      --hover-bg-color: #434B5C;\n",
              "      --hover-fill-color: #FFFFFF;\n",
              "      --disabled-bg-color: #3B4455;\n",
              "      --disabled-fill-color: #666;\n",
              "  }\n",
              "\n",
              "  .colab-df-quickchart {\n",
              "    background-color: var(--bg-color);\n",
              "    border: none;\n",
              "    border-radius: 50%;\n",
              "    cursor: pointer;\n",
              "    display: none;\n",
              "    fill: var(--fill-color);\n",
              "    height: 32px;\n",
              "    padding: 0;\n",
              "    width: 32px;\n",
              "  }\n",
              "\n",
              "  .colab-df-quickchart:hover {\n",
              "    background-color: var(--hover-bg-color);\n",
              "    box-shadow: 0 1px 2px rgba(60, 64, 67, 0.3), 0 1px 3px 1px rgba(60, 64, 67, 0.15);\n",
              "    fill: var(--button-hover-fill-color);\n",
              "  }\n",
              "\n",
              "  .colab-df-quickchart-complete:disabled,\n",
              "  .colab-df-quickchart-complete:disabled:hover {\n",
              "    background-color: var(--disabled-bg-color);\n",
              "    fill: var(--disabled-fill-color);\n",
              "    box-shadow: none;\n",
              "  }\n",
              "\n",
              "  .colab-df-spinner {\n",
              "    border: 2px solid var(--fill-color);\n",
              "    border-color: transparent;\n",
              "    border-bottom-color: var(--fill-color);\n",
              "    animation:\n",
              "      spin 1s steps(1) infinite;\n",
              "  }\n",
              "\n",
              "  @keyframes spin {\n",
              "    0% {\n",
              "      border-color: transparent;\n",
              "      border-bottom-color: var(--fill-color);\n",
              "      border-left-color: var(--fill-color);\n",
              "    }\n",
              "    20% {\n",
              "      border-color: transparent;\n",
              "      border-left-color: var(--fill-color);\n",
              "      border-top-color: var(--fill-color);\n",
              "    }\n",
              "    30% {\n",
              "      border-color: transparent;\n",
              "      border-left-color: var(--fill-color);\n",
              "      border-top-color: var(--fill-color);\n",
              "      border-right-color: var(--fill-color);\n",
              "    }\n",
              "    40% {\n",
              "      border-color: transparent;\n",
              "      border-right-color: var(--fill-color);\n",
              "      border-top-color: var(--fill-color);\n",
              "    }\n",
              "    60% {\n",
              "      border-color: transparent;\n",
              "      border-right-color: var(--fill-color);\n",
              "    }\n",
              "    80% {\n",
              "      border-color: transparent;\n",
              "      border-right-color: var(--fill-color);\n",
              "      border-bottom-color: var(--fill-color);\n",
              "    }\n",
              "    90% {\n",
              "      border-color: transparent;\n",
              "      border-bottom-color: var(--fill-color);\n",
              "    }\n",
              "  }\n",
              "</style>\n",
              "\n",
              "      <script>\n",
              "        async function quickchart(key) {\n",
              "          const quickchartButtonEl =\n",
              "            document.querySelector('#' + key + ' button');\n",
              "          quickchartButtonEl.disabled = true;  // To prevent multiple clicks.\n",
              "          quickchartButtonEl.classList.add('colab-df-spinner');\n",
              "          try {\n",
              "            const charts = await google.colab.kernel.invokeFunction(\n",
              "                'suggestCharts', [key], {});\n",
              "          } catch (error) {\n",
              "            console.error('Error during call to suggestCharts:', error);\n",
              "          }\n",
              "          quickchartButtonEl.classList.remove('colab-df-spinner');\n",
              "          quickchartButtonEl.classList.add('colab-df-quickchart-complete');\n",
              "        }\n",
              "        (() => {\n",
              "          let quickchartButtonEl =\n",
              "            document.querySelector('#df-b24d2710-1d79-4b13-bc58-3771b6fe854e button');\n",
              "          quickchartButtonEl.style.display =\n",
              "            google.colab.kernel.accessAllowed ? 'block' : 'none';\n",
              "        })();\n",
              "      </script>\n",
              "    </div>\n",
              "\n",
              "    </div>\n",
              "  </div>\n"
            ],
            "application/vnd.google.colaboratory.intrinsic+json": {
              "type": "dataframe",
              "variable_name": "df",
              "summary": "{\n  \"name\": \"df\",\n  \"rows\": 20,\n  \"fields\": [\n    {\n      \"column\": \"milk\",\n      \"properties\": {\n        \"dtype\": \"category\",\n        \"num_unique_values\": 1,\n        \"samples\": [\n          \"t\"\n        ],\n        \"semantic_type\": \"\",\n        \"description\": \"\"\n      }\n    },\n    {\n      \"column\": \"bread\",\n      \"properties\": {\n        \"dtype\": \"category\",\n        \"num_unique_values\": 1,\n        \"samples\": [\n          \"t\"\n        ],\n        \"semantic_type\": \"\",\n        \"description\": \"\"\n      }\n    },\n    {\n      \"column\": \"biscuit\",\n      \"properties\": {\n        \"dtype\": \"category\",\n        \"num_unique_values\": 1,\n        \"samples\": [\n          \"t\"\n        ],\n        \"semantic_type\": \"\",\n        \"description\": \"\"\n      }\n    },\n    {\n      \"column\": \"oats\",\n      \"properties\": {\n        \"dtype\": \"category\",\n        \"num_unique_values\": 1,\n        \"samples\": [\n          \"t\"\n        ],\n        \"semantic_type\": \"\",\n        \"description\": \"\"\n      }\n    },\n    {\n      \"column\": \"pancit canton\",\n      \"properties\": {\n        \"dtype\": \"category\",\n        \"num_unique_values\": 1,\n        \"samples\": [\n          \"t\"\n        ],\n        \"semantic_type\": \"\",\n        \"description\": \"\"\n      }\n    },\n    {\n      \"column\": \"peanut butter\",\n      \"properties\": {\n        \"dtype\": \"category\",\n        \"num_unique_values\": 1,\n        \"samples\": [\n          \"t\"\n        ],\n        \"semantic_type\": \"\",\n        \"description\": \"\"\n      }\n    },\n    {\n      \"column\": \"cheese\",\n      \"properties\": {\n        \"dtype\": \"category\",\n        \"num_unique_values\": 1,\n        \"samples\": [\n          \"t\"\n        ],\n        \"semantic_type\": \"\",\n        \"description\": \"\"\n      }\n    },\n    {\n      \"column\": \"green tea\",\n      \"properties\": {\n        \"dtype\": \"category\",\n        \"num_unique_values\": 1,\n        \"samples\": [\n          \"t\"\n        ],\n        \"semantic_type\": \"\",\n        \"description\": \"\"\n      }\n    },\n    {\n      \"column\": \"coffee\",\n      \"properties\": {\n        \"dtype\": \"category\",\n        \"num_unique_values\": 1,\n        \"samples\": [\n          \"t\"\n        ],\n        \"semantic_type\": \"\",\n        \"description\": \"\"\n      }\n    },\n    {\n      \"column\": \"cinammon\",\n      \"properties\": {\n        \"dtype\": \"category\",\n        \"num_unique_values\": 1,\n        \"samples\": [\n          \"t\"\n        ],\n        \"semantic_type\": \"\",\n        \"description\": \"\"\n      }\n    },\n    {\n      \"column\": \"sugar\",\n      \"properties\": {\n        \"dtype\": \"category\",\n        \"num_unique_values\": 1,\n        \"samples\": [\n          \"t\"\n        ],\n        \"semantic_type\": \"\",\n        \"description\": \"\"\n      }\n    }\n  ]\n}"
            }
          },
          "metadata": {},
          "execution_count": 58
        }
      ]
    },
    {
      "cell_type": "markdown",
      "source": [
        "here, we made a dictionary to assign the item labels to number/index"
      ],
      "metadata": {
        "id": "9jITm5GRhDDZ"
      }
    },
    {
      "cell_type": "code",
      "source": [
        "\n",
        "item_list = list(df.columns)\n",
        "item_dict = dict()\n",
        "\n",
        "for i, item in enumerate(item_list):\n",
        "    item_dict[item] = i + 1\n",
        "\n",
        "item_dict\n"
      ],
      "metadata": {
        "colab": {
          "base_uri": "https://localhost:8080/"
        },
        "id": "FRgVunNggKH0",
        "outputId": "08211972-1105-46dc-9cb4-19086fe18a52"
      },
      "execution_count": null,
      "outputs": [
        {
          "output_type": "execute_result",
          "data": {
            "text/plain": [
              "{'milk': 1,\n",
              " 'bread': 2,\n",
              " 'biscuit': 3,\n",
              " 'oats': 4,\n",
              " 'pancit canton': 5,\n",
              " 'peanut butter': 6,\n",
              " 'cheese': 7,\n",
              " 'green tea': 8,\n",
              " 'coffee': 9,\n",
              " 'cinammon': 10,\n",
              " 'sugar': 11}"
            ]
          },
          "metadata": {},
          "execution_count": 59
        }
      ]
    },
    {
      "cell_type": "markdown",
      "source": [
        "then, we made a list of transactions\n",
        "\n",
        "every element in the list makes up a single transaction"
      ],
      "metadata": {
        "id": "9xpgmL1jhXmh"
      }
    },
    {
      "cell_type": "code",
      "source": [
        "transactions = list()\n",
        "\n",
        "for i, row in df.iterrows():\n",
        "    transaction = set()\n",
        "\n",
        "    for item in item_dict:\n",
        "        if row[item] == 't':\n",
        "            transaction.add(item_dict[item])\n",
        "    transactions.append(transaction)\n",
        "\n",
        "transactions\n"
      ],
      "metadata": {
        "colab": {
          "base_uri": "https://localhost:8080/"
        },
        "id": "dKKUGjlCgL-C",
        "outputId": "860bfb43-3c51-4089-ce6a-91cbc28f2422"
      },
      "execution_count": null,
      "outputs": [
        {
          "output_type": "execute_result",
          "data": {
            "text/plain": [
              "[{1, 2, 3},\n",
              " {1, 2, 3, 4},\n",
              " {2, 5, 8},\n",
              " {1, 2, 6, 7},\n",
              " {3, 7, 8},\n",
              " {2, 5, 8},\n",
              " {4, 7, 8},\n",
              " {2, 3, 7, 8},\n",
              " {2, 6, 7, 8},\n",
              " {1, 2},\n",
              " {3, 4, 9, 10},\n",
              " {3, 4, 9, 10},\n",
              " {5, 9, 11},\n",
              " {2, 9, 10},\n",
              " {2, 3, 11},\n",
              " {4, 9, 11},\n",
              " {2, 5, 11},\n",
              " {2, 9, 11},\n",
              " {2, 9, 11},\n",
              " {1, 4, 8, 9}]"
            ]
          },
          "metadata": {},
          "execution_count": 60
        }
      ]
    },
    {
      "cell_type": "markdown",
      "source": [
        "this is used to evaluate the support count for a set"
      ],
      "metadata": {
        "id": "Ld9ekHKFhc-H"
      }
    },
    {
      "cell_type": "code",
      "source": [
        "def get_support(transactions, item_set):\n",
        "    match_count = 0\n",
        "    for transaction in transactions:\n",
        "        if item_set.issubset(transaction):\n",
        "            match_count += 1\n",
        "\n",
        "    return float(match_count/len(transactions))\n"
      ],
      "metadata": {
        "id": "D4tvy7DlgOX3"
      },
      "execution_count": null,
      "outputs": []
    },
    {
      "cell_type": "markdown",
      "source": [
        "self join function"
      ],
      "metadata": {
        "id": "vt9JcZSrhmp2"
      }
    },
    {
      "cell_type": "code",
      "source": [
        "def self_join(frequent_item_sets_per_level, level):\n",
        "    current_level_candidates = list()\n",
        "    last_level_items = frequent_item_sets_per_level[level - 1]\n",
        "\n",
        "    if len(last_level_items) == 0:\n",
        "        return current_level_candidates\n",
        "\n",
        "    for i in range(len(last_level_items)):\n",
        "        for j in range(i+1, len(last_level_items)):\n",
        "            itemset_i = last_level_items[i][0]\n",
        "            itemset_j = last_level_items[j][0]\n",
        "            union_set = itemset_i.union(itemset_j)\n",
        "\n",
        "            if union_set not in current_level_candidates and len(union_set) == level:\n",
        "                current_level_candidates.append(union_set)\n",
        "\n",
        "    return current_level_candidates\n"
      ],
      "metadata": {
        "id": "Gk--kX2DgPue"
      },
      "execution_count": null,
      "outputs": []
    },
    {
      "cell_type": "markdown",
      "source": [
        "pruning to remove invalid sets"
      ],
      "metadata": {
        "id": "1JpXnBAohsme"
      }
    },
    {
      "cell_type": "code",
      "source": [
        "def get_single_drop_subsets(item_set):\n",
        "    single_drop_subsets = list()\n",
        "    for item in item_set:\n",
        "        temp = item_set.copy()\n",
        "        temp.remove(item)\n",
        "        single_drop_subsets.append(temp)\n",
        "\n",
        "    return single_drop_subsets\n",
        "\n",
        "def is_valid_set(item_set, prev_level_sets):\n",
        "    single_drop_subsets = get_single_drop_subsets(item_set)\n",
        "\n",
        "    for single_drop_set in single_drop_subsets:\n",
        "        if single_drop_set not in prev_level_sets:\n",
        "            return False\n",
        "    return True\n",
        "\n",
        "def pruning(frequent_item_sets_per_level, level, candidate_set):\n",
        "    post_pruning_set = list()\n",
        "    if len(candidate_set) == 0:\n",
        "        return post_pruning_set\n",
        "\n",
        "    prev_level_sets = list()\n",
        "    for item_set, _ in frequent_item_sets_per_level[level - 1]:\n",
        "        prev_level_sets.append(item_set)\n",
        "\n",
        "    for item_set in candidate_set:\n",
        "        if is_valid_set(item_set, prev_level_sets):\n",
        "            post_pruning_set.append(item_set)\n",
        "\n",
        "    return post_pruning_set\n"
      ],
      "metadata": {
        "id": "hu9OxduQgRgS"
      },
      "execution_count": null,
      "outputs": []
    },
    {
      "cell_type": "markdown",
      "source": [
        "apriori algorithm"
      ],
      "metadata": {
        "id": "JSXJTPW8h-sT"
      }
    },
    {
      "cell_type": "code",
      "source": [
        "from collections import defaultdict\n",
        "\n",
        "def apriori(min_support):\n",
        "    frequent_item_sets_per_level = defaultdict(list)\n",
        "    print(\"level : 1\", end = \" \")\n",
        "\n",
        "    for item in range(1, len(item_list) + 1):\n",
        "        support = get_support(transactions, {item})\n",
        "        if support >= min_support:\n",
        "            frequent_item_sets_per_level[1].append(({item}, support))\n",
        "\n",
        "    for level in range(2, len(item_list) + 1):\n",
        "        print(level, end = \" \")\n",
        "        current_level_candidates = self_join(frequent_item_sets_per_level, level)\n",
        "\n",
        "        post_pruning_candidates = pruning(frequent_item_sets_per_level, level, current_level_candidates)\n",
        "        if len(post_pruning_candidates) == 0:\n",
        "            break\n",
        "\n",
        "        for item_set in post_pruning_candidates:\n",
        "            support = get_support(transactions, item_set)\n",
        "            if support >= min_support:\n",
        "                frequent_item_sets_per_level[level].append((item_set, support))\n",
        "\n",
        "    return frequent_item_sets_per_level\n",
        "\n"
      ],
      "metadata": {
        "id": "wMBy3ZsdgS9w"
      },
      "execution_count": null,
      "outputs": []
    },
    {
      "cell_type": "markdown",
      "source": [
        "other params, naka manual setting pa ung min support value at confidence"
      ],
      "metadata": {
        "id": "dZ5kTv1giBXY"
      }
    },
    {
      "cell_type": "code",
      "source": [
        "min_support = 0.005\n",
        "frequent_item_sets_per_level = apriori(min_support)\n"
      ],
      "metadata": {
        "colab": {
          "base_uri": "https://localhost:8080/"
        },
        "id": "vqB3kO2BgUr-",
        "outputId": "a0d6257a-7730-48a7-9a69-68f6eadf3a84"
      },
      "execution_count": null,
      "outputs": [
        {
          "output_type": "stream",
          "name": "stdout",
          "text": [
            "level : 1 2 3 4 5 "
          ]
        }
      ]
    },
    {
      "cell_type": "markdown",
      "source": [
        "debug"
      ],
      "metadata": {
        "id": "DQYmog0oiPRy"
      }
    },
    {
      "cell_type": "code",
      "source": [
        "for level in frequent_item_sets_per_level:\n",
        "    print(len(frequent_item_sets_per_level[level]))\n"
      ],
      "metadata": {
        "colab": {
          "base_uri": "https://localhost:8080/"
        },
        "id": "koZ1aeThgV8J",
        "outputId": "a7b83f4d-a274-4c60-d4be-c2aa8a6ef25c"
      },
      "execution_count": null,
      "outputs": [
        {
          "output_type": "stream",
          "name": "stdout",
          "text": [
            "11\n",
            "36\n",
            "30\n",
            "6\n"
          ]
        }
      ]
    },
    {
      "cell_type": "markdown",
      "source": [
        "check if nagana"
      ],
      "metadata": {
        "id": "jkmC0E9WkjcM"
      }
    },
    {
      "cell_type": "code",
      "source": [
        "for level in frequent_item_sets_per_level:\n",
        "    print(frequent_item_sets_per_level[level])"
      ],
      "metadata": {
        "colab": {
          "base_uri": "https://localhost:8080/"
        },
        "id": "nLbqxvdXgXiK",
        "outputId": "585bb2c3-ab6d-4428-b1d4-b6a0586d8192"
      },
      "execution_count": null,
      "outputs": [
        {
          "output_type": "stream",
          "name": "stdout",
          "text": [
            "[({1}, 0.25), ({2}, 0.65), ({3}, 0.35), ({4}, 0.3), ({5}, 0.2), ({6}, 0.1), ({7}, 0.25), ({8}, 0.35), ({9}, 0.4), ({10}, 0.15), ({11}, 0.3)]\n",
            "[({1, 2}, 0.2), ({1, 3}, 0.1), ({1, 4}, 0.1), ({1, 6}, 0.05), ({1, 7}, 0.05), ({8, 1}, 0.05), ({1, 9}, 0.05), ({2, 3}, 0.2), ({2, 4}, 0.05), ({2, 5}, 0.15), ({2, 6}, 0.1), ({2, 7}, 0.15), ({8, 2}, 0.2), ({9, 2}, 0.15), ({2, 10}, 0.05), ({2, 11}, 0.2), ({3, 4}, 0.15), ({3, 7}, 0.1), ({8, 3}, 0.1), ({9, 3}, 0.1), ({10, 3}, 0.1), ({11, 3}, 0.05), ({4, 7}, 0.05), ({8, 4}, 0.1), ({9, 4}, 0.2), ({10, 4}, 0.1), ({11, 4}, 0.05), ({8, 5}, 0.1), ({9, 5}, 0.05), ({11, 5}, 0.1), ({6, 7}, 0.1), ({8, 6}, 0.05), ({8, 7}, 0.2), ({8, 9}, 0.05), ({9, 10}, 0.15), ({9, 11}, 0.2)]\n",
            "[({1, 2, 3}, 0.1), ({1, 2, 4}, 0.05), ({1, 2, 6}, 0.05), ({1, 2, 7}, 0.05), ({1, 3, 4}, 0.05), ({8, 1, 4}, 0.05), ({1, 4, 9}, 0.05), ({1, 6, 7}, 0.05), ({8, 1, 9}, 0.05), ({2, 3, 4}, 0.05), ({2, 3, 7}, 0.05), ({8, 2, 3}, 0.05), ({11, 2, 3}, 0.05), ({8, 2, 5}, 0.1), ({2, 11, 5}, 0.05), ({2, 6, 7}, 0.1), ({8, 2, 6}, 0.05), ({8, 2, 7}, 0.1), ({9, 2, 10}, 0.05), ({9, 2, 11}, 0.1), ({9, 3, 4}, 0.1), ({10, 3, 4}, 0.1), ({8, 3, 7}, 0.1), ({9, 10, 3}, 0.1), ({8, 4, 7}, 0.05), ({8, 9, 4}, 0.05), ({9, 10, 4}, 0.1), ({9, 11, 4}, 0.05), ({9, 11, 5}, 0.05), ({8, 6, 7}, 0.05)]\n",
            "[({1, 2, 3, 4}, 0.05), ({1, 2, 6, 7}, 0.05), ({1, 4, 8, 9}, 0.05), ({2, 3, 7, 8}, 0.05), ({2, 6, 7, 8}, 0.05), ({3, 4, 9, 10}, 0.1)]\n"
          ]
        }
      ]
    },
    {
      "cell_type": "markdown",
      "source": [
        "generation association rules"
      ],
      "metadata": {
        "id": "F3ZIr85diVoV"
      }
    },
    {
      "cell_type": "code",
      "source": [
        "item_support_dict = dict()\n",
        "item_list = list()\n",
        "\n",
        "key_list = list(item_dict.keys())\n",
        "val_list = list(item_dict.values())\n",
        "\n",
        "for level in frequent_item_sets_per_level:\n",
        "    for set_support_pair in frequent_item_sets_per_level[level]:\n",
        "        for i in set_support_pair[0]:\n",
        "            item_list.append(key_list[val_list.index(i)])\n",
        "        item_support_dict[frozenset(item_list)] = set_support_pair[1]\n",
        "        item_list = list()"
      ],
      "metadata": {
        "id": "hmAoQ3EfgYtb"
      },
      "execution_count": null,
      "outputs": []
    },
    {
      "cell_type": "code",
      "source": [
        "item_support_dict\n"
      ],
      "metadata": {
        "colab": {
          "base_uri": "https://localhost:8080/"
        },
        "id": "6j4EtAC-gZvc",
        "outputId": "d14d24d1-37cd-41b3-c3d9-e686475027b9"
      },
      "execution_count": null,
      "outputs": [
        {
          "output_type": "execute_result",
          "data": {
            "text/plain": [
              "{frozenset({'milk'}): 0.25,\n",
              " frozenset({'bread'}): 0.65,\n",
              " frozenset({'biscuit'}): 0.35,\n",
              " frozenset({'oats'}): 0.3,\n",
              " frozenset({'pancit canton'}): 0.2,\n",
              " frozenset({'peanut butter'}): 0.1,\n",
              " frozenset({'cheese'}): 0.25,\n",
              " frozenset({'green tea'}): 0.35,\n",
              " frozenset({'coffee'}): 0.4,\n",
              " frozenset({'cinammon'}): 0.15,\n",
              " frozenset({'sugar'}): 0.3,\n",
              " frozenset({'bread', 'milk'}): 0.2,\n",
              " frozenset({'biscuit', 'milk'}): 0.1,\n",
              " frozenset({'milk', 'oats'}): 0.1,\n",
              " frozenset({'milk', 'peanut butter'}): 0.05,\n",
              " frozenset({'cheese', 'milk'}): 0.05,\n",
              " frozenset({'green tea', 'milk'}): 0.05,\n",
              " frozenset({'coffee', 'milk'}): 0.05,\n",
              " frozenset({'biscuit', 'bread'}): 0.2,\n",
              " frozenset({'bread', 'oats'}): 0.05,\n",
              " frozenset({'bread', 'pancit canton'}): 0.15,\n",
              " frozenset({'bread', 'peanut butter'}): 0.1,\n",
              " frozenset({'bread', 'cheese'}): 0.15,\n",
              " frozenset({'bread', 'green tea'}): 0.2,\n",
              " frozenset({'bread', 'coffee'}): 0.15,\n",
              " frozenset({'bread', 'cinammon'}): 0.05,\n",
              " frozenset({'bread', 'sugar'}): 0.2,\n",
              " frozenset({'biscuit', 'oats'}): 0.15,\n",
              " frozenset({'biscuit', 'cheese'}): 0.1,\n",
              " frozenset({'biscuit', 'green tea'}): 0.1,\n",
              " frozenset({'biscuit', 'coffee'}): 0.1,\n",
              " frozenset({'biscuit', 'cinammon'}): 0.1,\n",
              " frozenset({'biscuit', 'sugar'}): 0.05,\n",
              " frozenset({'cheese', 'oats'}): 0.05,\n",
              " frozenset({'green tea', 'oats'}): 0.1,\n",
              " frozenset({'coffee', 'oats'}): 0.2,\n",
              " frozenset({'cinammon', 'oats'}): 0.1,\n",
              " frozenset({'oats', 'sugar'}): 0.05,\n",
              " frozenset({'green tea', 'pancit canton'}): 0.1,\n",
              " frozenset({'coffee', 'pancit canton'}): 0.05,\n",
              " frozenset({'pancit canton', 'sugar'}): 0.1,\n",
              " frozenset({'cheese', 'peanut butter'}): 0.1,\n",
              " frozenset({'green tea', 'peanut butter'}): 0.05,\n",
              " frozenset({'cheese', 'green tea'}): 0.2,\n",
              " frozenset({'coffee', 'green tea'}): 0.05,\n",
              " frozenset({'cinammon', 'coffee'}): 0.15,\n",
              " frozenset({'coffee', 'sugar'}): 0.2,\n",
              " frozenset({'biscuit', 'bread', 'milk'}): 0.1,\n",
              " frozenset({'bread', 'milk', 'oats'}): 0.05,\n",
              " frozenset({'bread', 'milk', 'peanut butter'}): 0.05,\n",
              " frozenset({'bread', 'cheese', 'milk'}): 0.05,\n",
              " frozenset({'biscuit', 'milk', 'oats'}): 0.05,\n",
              " frozenset({'green tea', 'milk', 'oats'}): 0.05,\n",
              " frozenset({'coffee', 'milk', 'oats'}): 0.05,\n",
              " frozenset({'cheese', 'milk', 'peanut butter'}): 0.05,\n",
              " frozenset({'coffee', 'green tea', 'milk'}): 0.05,\n",
              " frozenset({'biscuit', 'bread', 'oats'}): 0.05,\n",
              " frozenset({'biscuit', 'bread', 'cheese'}): 0.05,\n",
              " frozenset({'biscuit', 'bread', 'green tea'}): 0.05,\n",
              " frozenset({'biscuit', 'bread', 'sugar'}): 0.05,\n",
              " frozenset({'bread', 'green tea', 'pancit canton'}): 0.1,\n",
              " frozenset({'bread', 'pancit canton', 'sugar'}): 0.05,\n",
              " frozenset({'bread', 'cheese', 'peanut butter'}): 0.1,\n",
              " frozenset({'bread', 'green tea', 'peanut butter'}): 0.05,\n",
              " frozenset({'bread', 'cheese', 'green tea'}): 0.1,\n",
              " frozenset({'bread', 'cinammon', 'coffee'}): 0.05,\n",
              " frozenset({'bread', 'coffee', 'sugar'}): 0.1,\n",
              " frozenset({'biscuit', 'coffee', 'oats'}): 0.1,\n",
              " frozenset({'biscuit', 'cinammon', 'oats'}): 0.1,\n",
              " frozenset({'biscuit', 'cheese', 'green tea'}): 0.1,\n",
              " frozenset({'biscuit', 'cinammon', 'coffee'}): 0.1,\n",
              " frozenset({'cheese', 'green tea', 'oats'}): 0.05,\n",
              " frozenset({'coffee', 'green tea', 'oats'}): 0.05,\n",
              " frozenset({'cinammon', 'coffee', 'oats'}): 0.1,\n",
              " frozenset({'coffee', 'oats', 'sugar'}): 0.05,\n",
              " frozenset({'coffee', 'pancit canton', 'sugar'}): 0.05,\n",
              " frozenset({'cheese', 'green tea', 'peanut butter'}): 0.05,\n",
              " frozenset({'biscuit', 'bread', 'milk', 'oats'}): 0.05,\n",
              " frozenset({'bread', 'cheese', 'milk', 'peanut butter'}): 0.05,\n",
              " frozenset({'coffee', 'green tea', 'milk', 'oats'}): 0.05,\n",
              " frozenset({'biscuit', 'bread', 'cheese', 'green tea'}): 0.05,\n",
              " frozenset({'bread', 'cheese', 'green tea', 'peanut butter'}): 0.05,\n",
              " frozenset({'biscuit', 'cinammon', 'coffee', 'oats'}): 0.1}"
            ]
          },
          "metadata": {},
          "execution_count": 69
        }
      ]
    },
    {
      "cell_type": "markdown",
      "source": [
        "find all subsets of the given itemset"
      ],
      "metadata": {
        "id": "qcJo6K28ib-F"
      }
    },
    {
      "cell_type": "code",
      "source": [
        "def find_subset(item, item_length):\n",
        "    combs = []\n",
        "    for i in range(1, item_length + 1):\n",
        "        combs.append(list(combinations(item, i)))\n",
        "\n",
        "    subsets = []\n",
        "    for comb in combs:\n",
        "        for elt in comb:\n",
        "            subsets.append(elt)\n",
        "\n",
        "    return subsets\n"
      ],
      "metadata": {
        "id": "QzGo0H0Uga0P"
      },
      "execution_count": null,
      "outputs": []
    },
    {
      "cell_type": "markdown",
      "source": [
        "association rule function"
      ],
      "metadata": {
        "id": "lEi35dQAigu9"
      }
    },
    {
      "cell_type": "code",
      "source": [
        "\n",
        "\n",
        "def association_rules(min_confidence, support_dict):\n",
        "    rules = list()\n",
        "    for item, support in support_dict.items():\n",
        "        item_length = len(item)\n",
        "\n",
        "        if item_length > 1:\n",
        "            subsets = find_subset(item, item_length)\n",
        "\n",
        "            for A in subsets:\n",
        "                B = item.difference(A)\n",
        "\n",
        "                if B:\n",
        "                    A = frozenset(A)\n",
        "\n",
        "                    AB = A | B\n",
        "\n",
        "                    confidence = support_dict[AB] / support_dict[A]\n",
        "                    if confidence >= min_confidence:\n",
        "                        rules.append((A, B, confidence))\n",
        "\n",
        "    return rules\n"
      ],
      "metadata": {
        "id": "XL5a1aGegcJP"
      },
      "execution_count": null,
      "outputs": []
    },
    {
      "cell_type": "markdown",
      "source": [
        "set confidence"
      ],
      "metadata": {
        "id": "LmxQqSCDikHK"
      }
    },
    {
      "cell_type": "code",
      "source": [
        "association_rules = association_rules(min_confidence = 0.6, support_dict = item_support_dict)"
      ],
      "metadata": {
        "id": "RjY3vqN0gdB3"
      },
      "execution_count": null,
      "outputs": []
    },
    {
      "cell_type": "markdown",
      "source": [
        "results"
      ],
      "metadata": {
        "id": "MQ5Ls7lck69A"
      }
    },
    {
      "cell_type": "code",
      "source": [
        "print(\"Number of rules: \", len(association_rules), \"\\n\")\n",
        "\n",
        "for rule in association_rules:\n",
        "    print('{0} -> {1} <confidence: {2}>'.format(set(rule[0]), set(rule[1]), rule[2]))\n"
      ],
      "metadata": {
        "colab": {
          "base_uri": "https://localhost:8080/"
        },
        "id": "BUa9TTkWgfST",
        "outputId": "20524dea-355a-4203-fee3-a7b4d7f971e3"
      },
      "execution_count": null,
      "outputs": [
        {
          "output_type": "stream",
          "name": "stdout",
          "text": [
            "Number of rules:  86 \n",
            "\n",
            "{'milk'} -> {'bread'} <confidence: 0.8>\n",
            "{'pancit canton'} -> {'bread'} <confidence: 0.7499999999999999>\n",
            "{'peanut butter'} -> {'bread'} <confidence: 1.0>\n",
            "{'cheese'} -> {'bread'} <confidence: 0.6>\n",
            "{'sugar'} -> {'bread'} <confidence: 0.6666666666666667>\n",
            "{'cinammon'} -> {'biscuit'} <confidence: 0.6666666666666667>\n",
            "{'oats'} -> {'coffee'} <confidence: 0.6666666666666667>\n",
            "{'cinammon'} -> {'oats'} <confidence: 0.6666666666666667>\n",
            "{'peanut butter'} -> {'cheese'} <confidence: 1.0>\n",
            "{'cheese'} -> {'green tea'} <confidence: 0.8>\n",
            "{'cinammon'} -> {'coffee'} <confidence: 1.0>\n",
            "{'sugar'} -> {'coffee'} <confidence: 0.6666666666666667>\n",
            "{'milk', 'biscuit'} -> {'bread'} <confidence: 1.0>\n",
            "{'oats', 'bread'} -> {'milk'} <confidence: 1.0>\n",
            "{'milk', 'peanut butter'} -> {'bread'} <confidence: 1.0>\n",
            "{'milk', 'cheese'} -> {'bread'} <confidence: 1.0>\n",
            "{'milk', 'green tea'} -> {'oats'} <confidence: 1.0>\n",
            "{'milk', 'coffee'} -> {'oats'} <confidence: 1.0>\n",
            "{'milk', 'cheese'} -> {'peanut butter'} <confidence: 1.0>\n",
            "{'milk', 'peanut butter'} -> {'cheese'} <confidence: 1.0>\n",
            "{'milk', 'coffee'} -> {'green tea'} <confidence: 1.0>\n",
            "{'milk', 'green tea'} -> {'coffee'} <confidence: 1.0>\n",
            "{'coffee', 'green tea'} -> {'milk'} <confidence: 1.0>\n",
            "{'oats', 'bread'} -> {'biscuit'} <confidence: 1.0>\n",
            "{'sugar', 'biscuit'} -> {'bread'} <confidence: 1.0>\n",
            "{'pancit canton', 'bread'} -> {'green tea'} <confidence: 0.6666666666666667>\n",
            "{'pancit canton', 'green tea'} -> {'bread'} <confidence: 1.0>\n",
            "{'peanut butter'} -> {'cheese', 'bread'} <confidence: 1.0>\n",
            "{'cheese', 'peanut butter'} -> {'bread'} <confidence: 1.0>\n",
            "{'cheese', 'bread'} -> {'peanut butter'} <confidence: 0.6666666666666667>\n",
            "{'peanut butter', 'bread'} -> {'cheese'} <confidence: 1.0>\n",
            "{'peanut butter', 'green tea'} -> {'bread'} <confidence: 1.0>\n",
            "{'cheese', 'bread'} -> {'green tea'} <confidence: 0.6666666666666667>\n",
            "{'cinammon', 'bread'} -> {'coffee'} <confidence: 1.0>\n",
            "{'coffee', 'bread'} -> {'sugar'} <confidence: 0.6666666666666667>\n",
            "{'coffee', 'biscuit'} -> {'oats'} <confidence: 1.0>\n",
            "{'oats', 'biscuit'} -> {'coffee'} <confidence: 0.6666666666666667>\n",
            "{'cinammon'} -> {'oats', 'biscuit'} <confidence: 0.6666666666666667>\n",
            "{'oats', 'cinammon'} -> {'biscuit'} <confidence: 1.0>\n",
            "{'oats', 'biscuit'} -> {'cinammon'} <confidence: 0.6666666666666667>\n",
            "{'cinammon', 'biscuit'} -> {'oats'} <confidence: 1.0>\n",
            "{'cheese', 'biscuit'} -> {'green tea'} <confidence: 1.0>\n",
            "{'green tea', 'biscuit'} -> {'cheese'} <confidence: 1.0>\n",
            "{'cinammon'} -> {'coffee', 'biscuit'} <confidence: 0.6666666666666667>\n",
            "{'coffee', 'cinammon'} -> {'biscuit'} <confidence: 0.6666666666666667>\n",
            "{'coffee', 'biscuit'} -> {'cinammon'} <confidence: 1.0>\n",
            "{'cinammon', 'biscuit'} -> {'coffee'} <confidence: 1.0>\n",
            "{'cheese', 'oats'} -> {'green tea'} <confidence: 1.0>\n",
            "{'coffee', 'green tea'} -> {'oats'} <confidence: 1.0>\n",
            "{'cinammon'} -> {'coffee', 'oats'} <confidence: 0.6666666666666667>\n",
            "{'coffee', 'cinammon'} -> {'oats'} <confidence: 0.6666666666666667>\n",
            "{'oats', 'cinammon'} -> {'coffee'} <confidence: 1.0>\n",
            "{'sugar', 'oats'} -> {'coffee'} <confidence: 1.0>\n",
            "{'coffee', 'pancit canton'} -> {'sugar'} <confidence: 1.0>\n",
            "{'peanut butter', 'green tea'} -> {'cheese'} <confidence: 1.0>\n",
            "{'oats', 'bread'} -> {'milk', 'biscuit'} <confidence: 1.0>\n",
            "{'milk', 'oats', 'bread'} -> {'biscuit'} <confidence: 1.0>\n",
            "{'milk', 'oats', 'biscuit'} -> {'bread'} <confidence: 1.0>\n",
            "{'oats', 'bread', 'biscuit'} -> {'milk'} <confidence: 1.0>\n",
            "{'milk', 'cheese'} -> {'peanut butter', 'bread'} <confidence: 1.0>\n",
            "{'milk', 'peanut butter'} -> {'cheese', 'bread'} <confidence: 1.0>\n",
            "{'milk', 'cheese', 'peanut butter'} -> {'bread'} <confidence: 1.0>\n",
            "{'milk', 'cheese', 'bread'} -> {'peanut butter'} <confidence: 1.0>\n",
            "{'milk', 'peanut butter', 'bread'} -> {'cheese'} <confidence: 1.0>\n",
            "{'milk', 'coffee'} -> {'oats', 'green tea'} <confidence: 1.0>\n",
            "{'milk', 'green tea'} -> {'coffee', 'oats'} <confidence: 1.0>\n",
            "{'coffee', 'green tea'} -> {'milk', 'oats'} <confidence: 1.0>\n",
            "{'milk', 'coffee', 'oats'} -> {'green tea'} <confidence: 1.0>\n",
            "{'milk', 'coffee', 'green tea'} -> {'oats'} <confidence: 1.0>\n",
            "{'milk', 'oats', 'green tea'} -> {'coffee'} <confidence: 1.0>\n",
            "{'coffee', 'oats', 'green tea'} -> {'milk'} <confidence: 1.0>\n",
            "{'cheese', 'bread', 'biscuit'} -> {'green tea'} <confidence: 1.0>\n",
            "{'bread', 'green tea', 'biscuit'} -> {'cheese'} <confidence: 1.0>\n",
            "{'peanut butter', 'green tea'} -> {'cheese', 'bread'} <confidence: 1.0>\n",
            "{'cheese', 'peanut butter', 'green tea'} -> {'bread'} <confidence: 1.0>\n",
            "{'peanut butter', 'bread', 'green tea'} -> {'cheese'} <confidence: 1.0>\n",
            "{'cinammon'} -> {'coffee', 'oats', 'biscuit'} <confidence: 0.6666666666666667>\n",
            "{'coffee', 'cinammon'} -> {'oats', 'biscuit'} <confidence: 0.6666666666666667>\n",
            "{'coffee', 'biscuit'} -> {'oats', 'cinammon'} <confidence: 1.0>\n",
            "{'oats', 'cinammon'} -> {'coffee', 'biscuit'} <confidence: 1.0>\n",
            "{'oats', 'biscuit'} -> {'coffee', 'cinammon'} <confidence: 0.6666666666666667>\n",
            "{'cinammon', 'biscuit'} -> {'coffee', 'oats'} <confidence: 1.0>\n",
            "{'coffee', 'oats', 'cinammon'} -> {'biscuit'} <confidence: 1.0>\n",
            "{'coffee', 'oats', 'biscuit'} -> {'cinammon'} <confidence: 1.0>\n",
            "{'coffee', 'cinammon', 'biscuit'} -> {'oats'} <confidence: 1.0>\n",
            "{'oats', 'cinammon', 'biscuit'} -> {'coffee'} <confidence: 1.0>\n"
          ]
        }
      ]
    }
  ]
}