{
 "cells": [
  {
   "cell_type": "code",
   "execution_count": 1,
   "id": "ebf43fab",
   "metadata": {},
   "outputs": [],
   "source": [
    "import pandas as pd\n",
    "import itertools\n",
    "import matplotlib.pyplot as plt"
   ]
  },
  {
   "cell_type": "code",
   "execution_count": 2,
   "id": "ffd26fd2",
   "metadata": {},
   "outputs": [],
   "source": [
    "df = pd.read_csv('basket.csv')"
   ]
  },
  {
   "cell_type": "code",
   "execution_count": 3,
   "id": "f143ed8e",
   "metadata": {},
   "outputs": [
    {
     "name": "stderr",
     "output_type": "stream",
     "text": [
      "C:\\Users\\dalea\\AppData\\Local\\Temp\\ipykernel_5488\\1672825488.py:2: FutureWarning: DataFrame.applymap has been deprecated. Use DataFrame.map instead.\n",
      "  basket_df = basket_df.applymap(lambda x: 1 if x > 0 else 0)\n"
     ]
    }
   ],
   "source": [
    "basket_df = df.groupby(['Transaction', 'Item'])['Item'].count().unstack().fillna(0)\n",
    "basket_df = basket_df.applymap(lambda x: 1 if x > 0 else 0)"
   ]
  },
  {
   "cell_type": "code",
   "execution_count": 4,
   "id": "71c7d0c7",
   "metadata": {},
   "outputs": [],
   "source": [
    "min_support = 0.02\n",
    "min_confidence = 0.3\n",
    "n_transactions = len(basket_df)"
   ]
  },
  {
   "cell_type": "code",
   "execution_count": 5,
   "id": "a19c88eb",
   "metadata": {},
   "outputs": [],
   "source": [
    "supports = {}\n",
    "frequent_itemsets = []\n",
    "\n",
    "for item in basket_df.columns:\n",
    "    support = basket_df[item].sum() / n_transactions\n",
    "    if support >= min_support:\n",
    "        itemset = frozenset([item])\n",
    "        supports[itemset] = support\n",
    "        frequent_itemsets.append({'itemsets': itemset, 'support': support})"
   ]
  },
  {
   "cell_type": "code",
   "execution_count": 6,
   "id": "350ec37e",
   "metadata": {},
   "outputs": [],
   "source": [
    "freq1 = list(supports.keys())\n",
    "for combo in itertools.combinations(freq1, 2):\n",
    "    itemset = combo[0].union(combo[1])\n",
    "    support = basket_df[list(itemset)].all(axis=1).sum() / n_transactions\n",
    "    if support >= min_support:\n",
    "        supports[itemset] = support\n",
    "        frequent_itemsets.append({'itemsets': itemset, 'support': support})"
   ]
  },
  {
   "cell_type": "code",
   "execution_count": 7,
   "id": "52507659",
   "metadata": {},
   "outputs": [],
   "source": [
    "fi_df = pd.DataFrame(frequent_itemsets)"
   ]
  },
  {
   "cell_type": "code",
   "execution_count": 8,
   "id": "4a8f0f8e",
   "metadata": {},
   "outputs": [],
   "source": [
    "rules = []\n",
    "for itemset in fi_df['itemsets']:\n",
    "    if len(itemset) > 1:\n",
    "        for r in range(1, len(itemset)):\n",
    "            for antecedent in itertools.combinations(itemset, r):\n",
    "                antecedent = frozenset(antecedent)\n",
    "                consequent = itemset - antecedent\n",
    "                if antecedent in supports:\n",
    "                    confidence = supports[itemset] / supports[antecedent]\n",
    "                    if confidence >= min_confidence:\n",
    "                        rules.append({\n",
    "                            'antecedents': antecedent,\n",
    "                            'consequents': consequent,\n",
    "                            'support': supports[itemset],\n",
    "                            'confidence': confidence\n",
    "                        })\n",
    "rules_df = pd.DataFrame(rules)"
   ]
  },
  {
   "cell_type": "code",
   "execution_count": 9,
   "id": "aff92ead",
   "metadata": {},
   "outputs": [
    {
     "name": "stdout",
     "output_type": "stream",
     "text": [
      "Dataset shape: (9465, 94)\n",
      "\n",
      "First 5 frequent itemsets:\n",
      "       itemsets   support\n",
      "0  (Alfajores)  0.036344\n",
      "1      (Bread)  0.327205\n",
      "2    (Brownie)  0.040042\n",
      "3       (Cake)  0.103856\n",
      "4     (Coffee)  0.478394\n",
      "\n",
      "First 5 association rules:\n",
      "        antecedents consequents   support  confidence\n",
      "0         (Pastry)     (Bread)  0.029160    0.338650\n",
      "1           (Cake)    (Coffee)  0.054728    0.526958\n",
      "2        (Cookies)    (Coffee)  0.028209    0.518447\n",
      "3  (Hot chocolate)    (Coffee)  0.029583    0.507246\n",
      "4          (Juice)    (Coffee)  0.020602    0.534247\n"
     ]
    }
   ],
   "source": [
    "print(\"Dataset shape:\", basket_df.shape)\n",
    "print(\"\\nFirst 5 frequent itemsets:\\n\", fi_df.head())\n",
    "print(\"\\nFirst 5 association rules:\\n\", rules_df.head())"
   ]
  },
  {
   "cell_type": "code",
   "execution_count": 10,
   "id": "d6eb600c",
   "metadata": {},
   "outputs": [
    {
     "data": {
      "image/png": "[encoded data removed]",
      "text/plain": [
       "<Figure size 1000x500 with 1 Axes>"
      ]
     },
     "metadata": {},
     "output_type": "display_data"
    }
   ],
   "source": [
    "item_support = fi_df[fi_df['itemsets'].apply(lambda x: len(x) == 1)].copy()\n",
    "item_support['item'] = item_support['itemsets'].apply(lambda x: list(x)[0])\n",
    "top_items = item_support.sort_values(by='support', ascending=False).head(10)\n",
    "\n",
    "plt.figure(figsize=(10, 5))\n",
    "plt.bar(top_items['item'], top_items['support'])\n",
    "plt.xlabel('Item')\n",
    "plt.ylabel('Support')\n",
    "plt.title('Top 10 Items by Support')\n",
    "plt.xticks(rotation=45)\n",
    "plt.tight_layout()\n",
    "plt.show()"
   ]
  }
 ],
 "metadata": {
  "kernelspec": {
   "display_name": "Python 3",
   "language": "python",
   "name": "python3"
  },
  "language_info": {
   "codemirror_mode": {
    "name": "ipython",
    "version": 3
   },
   "file_extension": ".py",
   "mimetype": "text/x-python",
   "name": "python",
   "nbconvert_exporter": "python",
   "pygments_lexer": "ipython3",
   "version": "3.11.9"
  }
 },
 "nbformat": 4,
 "nbformat_minor": 5
}
